{
 "cells": [
  {
   "cell_type": "code",
   "execution_count": 2,
   "metadata": {},
   "outputs": [
    {
     "name": "stdout",
     "output_type": "stream",
     "text": [
      "3\n"
     ]
    }
   ],
   "source": [
    "class Solution(object):\n",
    "    def heightChecker(self, heights):\n",
    "        \"\"\"\n",
    "        :type heights: List[int]\n",
    "        :rtype: int\n",
    "        \"\"\"\n",
    "        # Create a sorted version of the heights list\n",
    "        expected = sorted(heights)\n",
    "        count = 0\n",
    "        \n",
    "        # Compare the original heights list with the sorted list\n",
    "        for i in range(len(heights)):\n",
    "            if heights[i] != expected[i]:\n",
    "                count += 1\n",
    "                \n",
    "        return count\n",
    "\n",
    "# Testing\n",
    "heights = [1,1,4,2,1,3]\n",
    "print(Solution().heightChecker(heights)) # 3\n"
   ]
  },
  {
   "cell_type": "code",
   "execution_count": 4,
   "metadata": {},
   "outputs": [
    {
     "name": "stdout",
     "output_type": "stream",
     "text": [
      "3\n"
     ]
    }
   ],
   "source": [
    "from typing import List\n",
    "\n",
    "\n",
    "class Solution:\n",
    "    def heightChecker(self, heights: List[int]) -> int:\n",
    "        sortH = [x for x in heights]\n",
    "        sortH.sort()\n",
    "        ans = 0\n",
    "        for i in range(len(heights)):\n",
    "            if sortH[i] != heights[i]:\n",
    "                ans += 1\n",
    "        return ans\n",
    "    \n",
    "# Testing\n",
    "heights = [1,1,4,2,1,3]\n",
    "print(Solution().heightChecker(heights)) # 3"
   ]
  }
 ],
 "metadata": {
  "kernelspec": {
   "display_name": "gpu_env",
   "language": "python",
   "name": "python3"
  },
  "language_info": {
   "codemirror_mode": {
    "name": "ipython",
    "version": 3
   },
   "file_extension": ".py",
   "mimetype": "text/x-python",
   "name": "python",
   "nbconvert_exporter": "python",
   "pygments_lexer": "ipython3",
   "version": "3.8.13"
  }
 },
 "nbformat": 4,
 "nbformat_minor": 2
}
