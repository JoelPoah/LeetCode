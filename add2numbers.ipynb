{
 "cells": [
  {
   "cell_type": "code",
   "execution_count": 1,
   "metadata": {},
   "outputs": [
    {
     "name": "stdout",
     "output_type": "stream",
     "text": [
      "[7, 0, 8]\n"
     ]
    }
   ],
   "source": [
    "# Definition for singly-linked list.\n",
    "# class ListNode(object):\n",
    "#     def __init__(self, val=0, next=None):\n",
    "#         self.val = val\n",
    "#         self.next = next\n",
    "class Solution(object):\n",
    "    def addTwoNumbers(self, l1, l2):\n",
    "        \"\"\"\n",
    "        :type l1: ListNode\n",
    "        :type l2: ListNode\n",
    "        :rtype: ListNode\n",
    "        \"\"\"\n",
    "        \n",
    "        if len(l1) == 0:\n",
    "            return [0]\n",
    "        if len(l2) == 0:\n",
    "            return [0]\n",
    "        \n",
    "        reversed_l1 = reversed(l1)\n",
    "        reversed_l2 = reversed(l2)\n",
    "\n",
    "        # convert it to str inside the list\n",
    "        \n",
    "        string_reversed_l1_list = [ str(x) for x in reversed_l1]\n",
    "        string_reversed_l2_list = [str(x) for x in reversed_l2]\n",
    "        string_reversed_l1 =\"\"\n",
    "        string_reversed_l2=\"\"\n",
    "        for i in string_reversed_l1_list:\n",
    "            string_reversed_l1 += i\n",
    "        \n",
    "        for y in string_reversed_l2_list:\n",
    "            string_reversed_l2 += y\n",
    "        \n",
    "        sum = eval(string_reversed_l1) + eval(string_reversed_l2)\n",
    "        stringed_sum = str(sum)\n",
    "        output_list = []\n",
    "\n",
    "        for str_num in reversed(stringed_sum):\n",
    "            output_list.append(str_num)\n",
    "\n",
    "        # convert all to numbers\n",
    "        output_list = [int(x) for x in output_list]\n",
    "        return output_list\n",
    "\n",
    "    \n",
    "sol = Solution()\n",
    "l1 = [2,4,3]\n",
    "l2 = [5,6,4]\n",
    "print(sol.addTwoNumbers(l1,l2))\n",
    "\n",
    "\n",
    "        "
   ]
  },
  {
   "cell_type": "code",
   "execution_count": null,
   "metadata": {},
   "outputs": [],
   "source": []
  },
  {
   "cell_type": "code",
   "execution_count": 8,
   "metadata": {},
   "outputs": [
    {
     "name": "stdout",
     "output_type": "stream",
     "text": [
      "[7, 0, 8]\n"
     ]
    }
   ],
   "source": [
    "# Definition for singly-linked list.\n",
    "class ListNode:\n",
    "    def __init__(self, val=0, next=None):\n",
    "        self.val = val\n",
    "        self.next = next\n",
    "\n",
    "class Solution:\n",
    "    def addTwoNumbers(self, l1: ListNode, l2: ListNode) -> ListNode:\n",
    "        dummyHead = ListNode(0)\n",
    "        tail = dummyHead\n",
    "        carry = 0\n",
    "\n",
    "        while l1 is not None or l2 is not None or carry != 0:\n",
    "            digit1 = l1.val if l1 is not None else 0\n",
    "            digit2 = l2.val if l2 is not None else 0\n",
    "\n",
    "            sum = digit1 + digit2 + carry\n",
    "            digit = sum % 10\n",
    "            carry = sum // 10\n",
    "\n",
    "            newNode = ListNode(digit)\n",
    "            tail.next = newNode\n",
    "            tail = tail.next\n",
    "\n",
    "            l1 = l1.next if l1 is not None else None\n",
    "            l2 = l2.next if l2 is not None else None\n",
    "\n",
    "        result = dummyHead.next\n",
    "        dummyHead.next = None\n",
    "        return result\n",
    "\n",
    "# Helper function to create a linked list from a list of values\n",
    "def create_linked_list(arr):\n",
    "    if not arr:\n",
    "        return None\n",
    "    head = ListNode(arr[0])\n",
    "    current = head\n",
    "    for val in arr[1:]:\n",
    "        current.next = ListNode(val)\n",
    "        current = current.next\n",
    "    return head\n",
    "\n",
    "# Helper function to convert a linked list to a list of values\n",
    "def linked_list_to_list(node):\n",
    "    result = []\n",
    "    while node:\n",
    "        result.append(node.val)\n",
    "        node = node.next\n",
    "    return result\n",
    "\n",
    "# Creating linked lists from arrays\n",
    "l1 = create_linked_list([2, 4, 3])\n",
    "l2 = create_linked_list([5, 6, 4])\n",
    "\n",
    "# Solving the problem\n",
    "sol = Solution()\n",
    "result = sol.addTwoNumbers(l1, l2)\n",
    "\n",
    "# Converting the result back to a list to print\n",
    "print(linked_list_to_list(result))\n"
   ]
  },
  {
   "cell_type": "code",
   "execution_count": 9,
   "metadata": {},
   "outputs": [
    {
     "name": "stdout",
     "output_type": "stream",
     "text": [
      "[7, 0, 8]\n"
     ]
    }
   ],
   "source": [
    "class ListNode:\n",
    "    def __init__(self, val=0, next=None):\n",
    "        self.val = val\n",
    "        self.next = next\n",
    "        \n",
    "\n",
    "\n",
    "\n",
    "class Solution:\n",
    "    def addTwoNumbers(self, l1: ListNode, l2: ListNode) -> ListNode:\n",
    "        dummyHead = ListNode(0)\n",
    "        tail = dummyHead\n",
    "        carry = 0\n",
    "\n",
    "        while l1 is not None or l2 is not None or carry != 0:\n",
    "            digit1 = l1.val if l1 is not None else 0\n",
    "            digit2 = l2.val if l2 is not None else 0\n",
    "\n",
    "            sum = digit1 + digit2 + carry\n",
    "            digit = sum % 10\n",
    "            carry = sum // 10\n",
    "\n",
    "            newNode = ListNode(digit)\n",
    "            tail.next = newNode\n",
    "            tail = tail.next\n",
    "\n",
    "            l1 = l1.next if l1 is not None else None\n",
    "            l2 = l2.next if l2 is not None else None\n",
    "\n",
    "        result = dummyHead.next\n",
    "        dummyHead.next = None\n",
    "        return result\n",
    "    \n",
    "        # Helper function to convert a linked list to a list of values\n",
    "    def linked_list_to_list(node):\n",
    "        result = []\n",
    "        while node:\n",
    "            result.append(node.val)\n",
    "            node = node.next\n",
    "        return result\n",
    "\n",
    "\n",
    "l1 = ListNode(2)\n",
    "l1.next = ListNode(4)\n",
    "l1.next.next = ListNode(3)\n",
    "\n",
    "l2 = ListNode(5)\n",
    "l2.next = ListNode(6)\n",
    "l2.next.next = ListNode(4)\n",
    "\n",
    "\n",
    "sol = Solution()\n",
    "result = sol.addTwoNumbers(l1, l2)\n",
    "# Converting the result back to a list to print\n",
    "print(linked_list_to_list(result))\n"
   ]
  },
  {
   "cell_type": "code",
   "execution_count": 12,
   "metadata": {},
   "outputs": [
    {
     "name": "stdout",
     "output_type": "stream",
     "text": [
      "2\n"
     ]
    },
    {
     "ename": "",
     "evalue": "",
     "output_type": "error",
     "traceback": [
      "\u001b[1;31mThe Kernel crashed while executing code in the current cell or a previous cell. \n",
      "\u001b[1;31mPlease review the code in the cell(s) to identify a possible cause of the failure. \n",
      "\u001b[1;31mClick <a href='https://aka.ms/vscodeJupyterKernelCrash'>here</a> for more info. \n",
      "\u001b[1;31mView Jupyter <a href='command:jupyter.viewOutput'>log</a> for further details."
     ]
    }
   ],
   "source": [
    "print(l1.val)"
   ]
  }
 ],
 "metadata": {
  "kernelspec": {
   "display_name": "gpu_env",
   "language": "python",
   "name": "python3"
  },
  "language_info": {
   "codemirror_mode": {
    "name": "ipython",
    "version": 3
   },
   "file_extension": ".py",
   "mimetype": "text/x-python",
   "name": "python",
   "nbconvert_exporter": "python",
   "pygments_lexer": "ipython3",
   "version": "3.8.13"
  }
 },
 "nbformat": 4,
 "nbformat_minor": 2
}
